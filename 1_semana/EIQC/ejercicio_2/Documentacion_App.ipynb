{
  "metadata": {
    "kernelspec": {
      "name": "python",
      "display_name": "Python (Pyodide)",
      "language": "python"
    },
    "language_info": {
      "codemirror_mode": {
        "name": "python",
        "version": 3
      },
      "file_extension": ".py",
      "mimetype": "text/x-python",
      "name": "python",
      "nbconvert_exporter": "python",
      "pygments_lexer": "ipython3",
      "version": "3.8"
    }
  },
  "nbformat_minor": 5,
  "nbformat": 4,
  "cells": [
    {
      "id": "f04b52c2-1fd6-4a0e-a228-0e049522be94",
      "cell_type": "markdown",
      "source": "# API de Gestión de Tareas\n\nEste proyecto es una API RESTful desarrollada con **Flask** y **Flask-JWT-Extended**. Permite gestionar tareas de manera segura con autenticación basada en JWT. Los usuarios pueden registrarse, iniciar sesión y crear, ver y eliminar tareas asociadas a su cuenta.\n\n## Funcionalidades\n- **Registro de usuarios**: Los usuarios pueden crear una cuenta proporcionando un nombre de usuario y una contraseña.\n- **Inicio de sesión**: Los usuarios pueden iniciar sesión y obtener un token JWT para autenticar sus solicitudes.\n- **Gestión de tareas**: Los usuarios autenticados pueden crear, listar y eliminar tareas.\n\nEste notebook explica las librerías utilizadas, las estructuras de datos y la implementación del código.\n## Librerías\n\n### `flask 3.1.0`\nFlask es un micro-framework de Python para desarrollar aplicaciones web. En este proyecto se utiliza para construir la API.\n\n```python\nfrom flask import Flask, jsonify, request\n```\n### `flask-jwt-extended 4.6.0`\nLibreria que se utiliza para manejar la autenticación con tokens JWT. Permite crear, verificar y gestionar tokens de acceso.\n\n```python\nfrom flask_jwt_extended import JWTManager, create_access_token, jwt_required, get_jwt_identity\n```\n### `flask-sqlalchemy`\nLibreria que permite interactuar con la base de datos mediante objetos Python en lugar de escribir SQL directamente.\n\n```python\nfrom models import db, User, Task\n```",
      "metadata": {}
    },
    {
      "id": "477e1702-3ec8-4b67-bc81-82ce4f3436e1",
      "cell_type": "markdown",
      "source": "# ¡Es importante! no olvidar para este proyecto, generar un archivo llamado \"requirements.txt\" donde se alojen las librerias de la sigueinte forma:\n## En el archivo de requirements colocar\n\n### flask==3.1.0\n### flask-jwt-extended==4.6.0\n### flask-sqlalchemy\n\n## Y correr el archivo, en terminal o consola con la siguiente instruccion \n```\npip install -r requirements.txt\n```\nDe esta manera, instalados los requirements, ya podemos hacer uso de las librerias en este proyecto",
      "metadata": {}
    },
    {
      "id": "3eb3a8f2-d87f-44cc-8b0b-7c0115b20867",
      "cell_type": "code",
      "source": "# Librerias importadas en el archivo principal de la aplicación\nfrom flask import Flask, jsonify, request\nfrom flask_jwt_extended import JWTManager, create_access_token, jwt_required, get_jwt_identity\nfrom models import db, User, Task",
      "metadata": {
        "trusted": true
      },
      "outputs": [],
      "execution_count": null
    },
    {
      "id": "923c4cca-a4f6-4404-bccd-4b1d43d480b9",
      "cell_type": "code",
      "source": "# Mencionamos que este proyecto utilizaria a flask, asi que se menciona al inicio \napp = Flask(__name__)\n\n# Elementos de SQLite, que nos permite dirigir los datos guardados a una base de datos llamada \"database.db\" y nos permite configurar la prioridad\n# Que los datos encontraran en la tabla de base de datos asociada, ademas de generar una funcion que permitira mas adelante crear un token de seguridad\napp.config['SQLALCHEMY_DATABASE_URI'] = 'sqlite:///database.db'\napp.config['SQLALCHEMY_TRACK_MODIFICATIONS'] = False\napp.config['JWT_SECRET_KEY'] = 'seckey'\n\ndb.init_app(app)\njwt = JWTManager(app)\n\n\nwith app.app_context():\n    db.create_all()",
      "metadata": {
        "trusted": true
      },
      "outputs": [],
      "execution_count": null
    },
    {
      "id": "a11c326b-db6e-4e70-acb0-199195407fc4",
      "cell_type": "markdown",
      "source": "## Estructuras de Datos\n\n### `User` y `Task`\nSe utilizan dos modelos: `User` para gestionar los usuarios y `Task` para gestionar las tareas. Ambas son clases de SQLAlchemy que se mapearán a tablas en la base de datos.\n\n- **User**: Contiene información de los usuarios, como su nombre de usuario y contraseña.\n- **Task**: Contiene información sobre las tareas, como el título y el usuario asociado.\n\n### Base de Datos\nLa base de datos utilizada es **SQLite**, configurada con SQLAlchemy.\n\n\n```python\napp.config['SQLALCHEMY_DATABASE_URI'] = 'sqlite:///database.db'\n```",
      "metadata": {}
    },
    {
      "id": "d08b20c4-1f6e-473a-824b-a26f67b0fc07",
      "cell_type": "markdown",
      "source": "## Rutas y Funcionalidades\n\n### Ruta `/register` (POST)\nRegistra a un nuevo usuario en la base de datos.\n\n**Entrada**:\n- `username`: El nombre de usuario.\n- `password`: La contraseña del usuario.\n\n**Salida**:\n- Mensaje de éxito si el registro es exitoso, o error si el usuario ya existe.\n\n```python\n@app.route('/register', methods=['POST'])\ndef register():\n    data = request.get_json()\n    username = data.get('username')\n    password = data.get('password')\n\n    if User.query.filter_by(username=username).first():\n        return jsonify({'error': 'El usuario ya existe'}), 400\n\n    user = User(username=username)\n    user.set_password(password)\n    db.session.add(user)\n    db.session.commit()\n    return jsonify({'message': 'Usuario registrado exitosamente'}), 201\n```",
      "metadata": {}
    },
    {
      "id": "1b3ab082-5678-4a0e-a812-24d15e410796",
      "cell_type": "markdown",
      "source": "### Ruta `/login` (POST)\nInicia sesión y devuelve un token JWT para autenticarse en rutas protegidas.\n\n**Entrada**:\n- `username`: El nombre de usuario.\n- `password`: La contraseña del usuario.\n\n**Salida**:\n- Un token JWT si las credenciales son correctas.\n\n```python\n    @app.route('/login', methods=['POST'])\ndef login():\n    data = request.get_json()\n    user = User.query.filter_by(username=data['username']).first()\n\n    if not user or not user.check_password(data['password']):\n        return jsonify({'error': 'Credenciales inválidas'}), 401\n\n    access_token = create_access_token(identity=user.id)\n    return jsonify({'access_token': access_token}), 200\n```",
      "metadata": {}
    },
    {
      "id": "bb769dc6-d917-4b45-911c-a295a0b96c7d",
      "cell_type": "markdown",
      "source": "### Ruta `/task` (GET ,POST)\nInicia sesión y devuelve un token JWT para autenticarse en rutas protegidas.\n\n- GET: Devuelve todas las tareas del usuario autenticado.\n- POST: Crea una nueva tarea para el usuario autenticado.\n    \n```python\n    @app.route('/tasks', methods=['GET', 'POST'])\n@jwt_required()\ndef handle_tasks():\n    user_id = get_jwt_identity()\n\n    if request.method == 'GET':\n        tasks = Task.query.filter_by(user_id=user_id).all()\n        return jsonify([{'id': task.id, 'title': task.title} for task in tasks]), 200\n\n    if request.method == 'POST':\n        data = request.get_json()\n        new_task = Task(title=data['title'], user_id=user_id)\n        db.session.add(new_task)\n        db.session.commit()\n        return jsonify({'message': 'Tarea creada'}), 201\n```",
      "metadata": {}
    },
    {
      "id": "83428edb-61b0-4b51-92fd-740fd240e812",
      "cell_type": "markdown",
      "source": "### Ruta `/tasks/<task_id>` (DELETE)\nElimina la tarea del usuario autenticado.\n\n```python\n@app.route('/tasks/<int:task_id>', methods=['DELETE'])\n@jwt_required()\ndef delete_task(task_id):\n    user_id = get_jwt_identity()\n    task = Task.query.filter_by(id=task_id, user_id=user_id).first()\n\n    if not task:\n        return jsonify({'error': 'Tarea no encontrada'}), 404\n\n    db.session.delete(task)\n    db.session.commit()\n    return jsonify({'message': 'Tarea eliminada'}), 200\n```",
      "metadata": {}
    },
    {
      "id": "c5523372-d70b-414b-9be7-b6774658dcc4",
      "cell_type": "markdown",
      "source": "## Conclusión\n\nEste proyecto proporciona una API de gestión de tareas segura mediante JWT. Los usuarios pueden crear una cuenta, iniciar sesión y gestionar tareas pendientes de manera sencilla.\n\nPosibles mejoras incluyen la implementación de funciones de actualización de tareas y una interfaz de usuario más robusta.\n",
      "metadata": {}
    },
    {
      "id": "c1f22dcb-1db4-4ba2-9734-91300e045350",
      "cell_type": "code",
      "source": "",
      "metadata": {
        "trusted": true
      },
      "outputs": [],
      "execution_count": null
    }
  ]
}
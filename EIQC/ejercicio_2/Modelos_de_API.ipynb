{
  "metadata": {
    "kernelspec": {
      "name": "python",
      "display_name": "Python (Pyodide)",
      "language": "python"
    },
    "language_info": {
      "codemirror_mode": {
        "name": "python",
        "version": 3
      },
      "file_extension": ".py",
      "mimetype": "text/x-python",
      "name": "python",
      "nbconvert_exporter": "python",
      "pygments_lexer": "ipython3",
      "version": "3.8"
    }
  },
  "nbformat_minor": 5,
  "nbformat": 4,
  "cells": [
    {
      "id": "df44932b-6c32-474c-8a48-0ca3b15b89e5",
      "cell_type": "markdown",
      "source": "# Modelos de la API de Gestión de Tareas\n\nEste archivo contiene la definición de los modelos que se utilizan para gestionar los usuarios y las tareas en la base de datos. Se utiliza **SQLAlchemy** como ORM para interactuar con la base de datos y gestionar las relaciones entre las entidades.\n\nLos modelos definidos son:\n- `User`: Representa a los usuarios registrados en la aplicación.\n- `Task`: Representa las tareas asociadas a cada usuario.\n\n¿Que es un modelo ORM?\nEs una herramienta que nos permite mapear, o lo que es lo mismo, convertir los objetos de una aplicación a un formato adecuado para ser almacenados en cualquier base de datos",
      "metadata": {}
    },
    {
      "id": "4d8fe2b6-511b-4123-baad-117e9ca8bbd3",
      "cell_type": "markdown",
      "source": "## Librerías\n\n### `flask_sqlalchemy`\nSQLAlchemy es una librería ORM que facilita la interacción con bases de datos relacionales utilizando objetos Python en lugar de escribir SQL directamente.\n\n```python\nfrom flask_sqlalchemy import SQLAlchemy\n```\n\n### `werkzeug.security`\nUtilizada para la gestión segura de contraseñas. En este caso, para generar el hash de la contraseña y verificar su validez.\n\n```python\nfrom werkzeug.security import generate_password_hash, check_password_hash\n```",
      "metadata": {}
    },
    {
      "id": "3fc85713-f6b7-4adb-afbe-8d9af4300a7b",
      "cell_type": "markdown",
      "source": "## Clases y Métodos\n\n### Clase `User`\nLa clase `User` representa a un usuario registrado en la aplicación. Tiene los siguientes atributos:\n\n- **`id`**: Un identificador único para cada usuario (clave primaria).\n- **`username`**: El nombre de usuario único del usuario.\n- **`password_hash`**: El hash de la contraseña del usuario (para mayor seguridad, nunca se guarda la contraseña directamente).\n\n#### Métodos:\n- **`set_password(self, password)`**: Establece la contraseña del usuario después de generar un hash de la misma.\n- **`check_password(self, password)`**: Verifica si la contraseña proporcionada coincide con el hash almacenado.\n\n```python\nclass User(db.Model):\n    id = db.Column(db.Integer, primary_key=True)\n    username = db.Column(db.String(80), unique=True, nullable=False)\n    password_hash = db.Column(db.String(120), nullable=False)\n\n    def set_password(self, password):\n        self.password_hash = generate_password_hash(password)\n\n    def check_password(self, password):\n        return check_password_hash(self.password_hash, password)\n```",
      "metadata": {}
    },
    {
      "id": "acd91060-8f7e-4639-a24c-3ca639b10f5c",
      "cell_type": "markdown",
      "source": "### Clase `Task`\nLa clase Task representa una tarea en la aplicación, y está relacionada con un usuario. Tiene los siguientes atributos:\n\n- **`id`**: Un identificador único para cada tarea (clave primaria).\n- **`title`**: El título de la tarea.\n- **`user_id`**: El identificador del usuario al que pertenece la tarea (clave foránea que hace referencia a la tabla User).\n\n```python\nclass Task(db.Model):\n    id = db.Column(db.Integer, primary_key=True)\n    title = db.Column(db.String(200), nullable=False)\n    user_id = db.Column(db.Integer, db.ForeignKey('user.id'), nullable=False)\n```",
      "metadata": {}
    },
    {
      "id": "b02ab122-be1f-4094-a3b2-051f45405f79",
      "cell_type": "markdown",
      "source": "## Relación entre Modelos\n\nLa clase `Task` tiene una relación con la clase `User` a través del campo **`user_id`**, que actúa como una **clave foránea** referenciando el `id` de la tabla `User`. Esto permite asociar tareas a usuarios específicos y gestionar las tareas de manera personalizada.\n\n```python\nuser_id = db.Column(db.Integer, db.ForeignKey('user.id'), nullable=False)\n",
      "metadata": {}
    },
    {
      "id": "0d699b72-637d-4cc4-9dbf-efb48590664b",
      "cell_type": "code",
      "source": "",
      "metadata": {
        "trusted": true
      },
      "outputs": [],
      "execution_count": null
    }
  ]
}